{
 "cells": [
  {
   "cell_type": "code",
   "execution_count": 1,
   "id": "c8a9a475",
   "metadata": {},
   "outputs": [],
   "source": [
    "GEMINI_FLASH=\"google_genai:gemini-2.0-flash\"\n",
    "GEMINI_25FLASH=\"google_genai:gemini-2.5-flash\"\n",
    "MODEL=GEMINI_25FLASH\n",
    "\n",
    "from langchain.chat_models import init_chat_model\n",
    "\n",
    "chatbot = init_chat_model(model=MODEL)"
   ]
  },
  {
   "cell_type": "code",
   "execution_count": null,
   "id": "80ec15d5",
   "metadata": {},
   "outputs": [],
   "source": []
  }
 ],
 "metadata": {
  "kernelspec": {
   "display_name": "backend-py3.12",
   "language": "python",
   "name": "python3"
  },
  "language_info": {
   "codemirror_mode": {
    "name": "ipython",
    "version": 3
   },
   "file_extension": ".py",
   "mimetype": "text/x-python",
   "name": "python",
   "nbconvert_exporter": "python",
   "pygments_lexer": "ipython3",
   "version": "3.12.10"
  }
 },
 "nbformat": 4,
 "nbformat_minor": 5
}
