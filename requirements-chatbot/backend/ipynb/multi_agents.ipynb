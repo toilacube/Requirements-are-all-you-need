{
 "cells": [
  {
   "cell_type": "code",
   "execution_count": 9,
   "id": "2cf13e84",
   "metadata": {},
   "outputs": [],
   "source": [
    "GEMINI_FLASH=\"google_genai:gemini-2.0-flash\"\n",
    "GEMINI_25FLASH=\"google_genai:gemini-2.5-flash\"\n",
    "MODEL=GEMINI_FLASH\n",
    "\n",
    "from langchain.chat_models import init_chat_model\n",
    "\n",
    "chatbot = init_chat_model(model=MODEL)"
   ]
  },
  {
   "cell_type": "code",
   "execution_count": 12,
   "id": "83966c18",
   "metadata": {},
   "outputs": [
    {
     "name": "stdout",
     "output_type": "stream",
     "text": [
      "{'supervisor': {'messages': [HumanMessage(content='I want to go to New York', additional_kwargs={}, response_metadata={}, id='478e8dae-a9cc-4eb9-9dac-610a49cc7694'), AIMessage(content='', additional_kwargs={'function_call': {'name': 'transfer_to_american_assistant', 'arguments': '{}'}}, response_metadata={'prompt_feedback': {'block_reason': 0, 'safety_ratings': []}, 'finish_reason': 'STOP', 'model_name': 'gemini-2.0-flash', 'safety_ratings': []}, name='supervisor', id='run--64ed44b6-da46-476e-902d-d616b3e649ae-0', tool_calls=[{'name': 'transfer_to_american_assistant', 'args': {}, 'id': 'ecd463ac-805d-4850-849d-5ee870e68f7b', 'type': 'tool_call'}], usage_metadata={'input_tokens': 58, 'output_tokens': 7, 'total_tokens': 65, 'input_token_details': {'cache_read': 0}}), ToolMessage(content='Successfully transferred to american_assistant', name='transfer_to_american_assistant', id='9e762657-00b9-4dcd-8eef-2177ed7719d9', tool_call_id='ecd463ac-805d-4850-849d-5ee870e68f7b')]}}\n",
      "\n",
      "\n",
      "{'american_assistant': {'messages': [AIMessage(content=\"Alright! New York City is a fantastic choice. It's got something for everyone. To help me give you the best recommendations, tell me a little more about what you're looking for:\\n\\n*   **When are you planning to go?** (Knowing the time of year helps with weather and event suggestions.)\\n*   **What are your interests?** (Museums, theater, food, history, nightlife, shopping, etc.)\\n*   **Who are you traveling with?** (Solo, couple, family with kids, friends?)\\n*   **What's your budget like?** (Luxury, mid-range, budget-friendly?)\\n*   **How long are you planning to stay?**\\n\\nOnce I have a better idea of what you're looking for, I can give you some tailored suggestions for attractions, hotels, restaurants, and more!\", additional_kwargs={}, response_metadata={'prompt_feedback': {'block_reason': 0, 'safety_ratings': []}, 'finish_reason': 'STOP', 'model_name': 'gemini-2.0-flash', 'safety_ratings': []}, name='american_assistant', id='run--0fd5785a-4332-437e-b263-bfbe1a23b45d-0', usage_metadata={'input_tokens': 35, 'output_tokens': 181, 'total_tokens': 216, 'input_token_details': {'cache_read': 0}}), AIMessage(content='Transferring back to supervisor', additional_kwargs={}, response_metadata={'__is_handoff_back': True}, name='american_assistant', id='a7268e1a-efc0-46fe-81e1-c454093f73ef', tool_calls=[{'name': 'transfer_back_to_supervisor', 'args': {}, 'id': '7fee7f60-d177-4341-9ebe-83df39942398', 'type': 'tool_call'}]), ToolMessage(content='Successfully transferred back to supervisor', name='transfer_back_to_supervisor', id='4b8a4c3d-2c96-4e88-87af-24602a194eff', tool_call_id='7fee7f60-d177-4341-9ebe-83df39942398')]}}\n",
      "\n",
      "\n",
      "{'supervisor': {'messages': [HumanMessage(content='I want to go to New York', additional_kwargs={}, response_metadata={}, id='478e8dae-a9cc-4eb9-9dac-610a49cc7694'), AIMessage(content='', additional_kwargs={'function_call': {'name': 'transfer_to_american_assistant', 'arguments': '{}'}}, response_metadata={'prompt_feedback': {'block_reason': 0, 'safety_ratings': []}, 'finish_reason': 'STOP', 'model_name': 'gemini-2.0-flash', 'safety_ratings': []}, name='supervisor', id='run--64ed44b6-da46-476e-902d-d616b3e649ae-0', tool_calls=[{'name': 'transfer_to_american_assistant', 'args': {}, 'id': 'ecd463ac-805d-4850-849d-5ee870e68f7b', 'type': 'tool_call'}], usage_metadata={'input_tokens': 58, 'output_tokens': 7, 'total_tokens': 65, 'input_token_details': {'cache_read': 0}}), ToolMessage(content='Successfully transferred to american_assistant', name='transfer_to_american_assistant', id='9e762657-00b9-4dcd-8eef-2177ed7719d9', tool_call_id='ecd463ac-805d-4850-849d-5ee870e68f7b'), AIMessage(content=\"Alright! New York City is a fantastic choice. It's got something for everyone. To help me give you the best recommendations, tell me a little more about what you're looking for:\\n\\n*   **When are you planning to go?** (Knowing the time of year helps with weather and event suggestions.)\\n*   **What are your interests?** (Museums, theater, food, history, nightlife, shopping, etc.)\\n*   **Who are you traveling with?** (Solo, couple, family with kids, friends?)\\n*   **What's your budget like?** (Luxury, mid-range, budget-friendly?)\\n*   **How long are you planning to stay?**\\n\\nOnce I have a better idea of what you're looking for, I can give you some tailored suggestions for attractions, hotels, restaurants, and more!\", additional_kwargs={}, response_metadata={'prompt_feedback': {'block_reason': 0, 'safety_ratings': []}, 'finish_reason': 'STOP', 'model_name': 'gemini-2.0-flash', 'safety_ratings': []}, name='american_assistant', id='run--0fd5785a-4332-437e-b263-bfbe1a23b45d-0', usage_metadata={'input_tokens': 35, 'output_tokens': 181, 'total_tokens': 216, 'input_token_details': {'cache_read': 0}}), AIMessage(content='Transferring back to supervisor', additional_kwargs={}, response_metadata={'__is_handoff_back': True}, name='american_assistant', id='a7268e1a-efc0-46fe-81e1-c454093f73ef', tool_calls=[{'name': 'transfer_back_to_supervisor', 'args': {}, 'id': '7fee7f60-d177-4341-9ebe-83df39942398', 'type': 'tool_call'}]), ToolMessage(content='Successfully transferred back to supervisor', name='transfer_back_to_supervisor', id='4b8a4c3d-2c96-4e88-87af-24602a194eff', tool_call_id='7fee7f60-d177-4341-9ebe-83df39942398'), AIMessage(content='OK. I have transferred you to the american assistant.', additional_kwargs={}, response_metadata={'prompt_feedback': {'block_reason': 0, 'safety_ratings': []}, 'finish_reason': 'STOP', 'model_name': 'gemini-2.0-flash', 'safety_ratings': []}, name='supervisor', id='run--4057b806-2133-46bd-8dc6-ab4408ef966d-0', usage_metadata={'input_tokens': 279, 'output_tokens': 12, 'total_tokens': 291, 'input_token_details': {'cache_read': 0}})]}}\n",
      "\n",
      "\n"
     ]
    }
   ],
   "source": [
    "from langgraph.prebuilt import create_react_agent\n",
    "from langgraph_supervisor import create_supervisor\n",
    "\n",
    "def get_user_input():\n",
    "    return input(\"You: \")\n",
    "\n",
    "vietnamese_assistant = create_react_agent(\n",
    "    model=MODEL,\n",
    "    tools=[],\n",
    "    prompt=\"You are a chatbot for vietnamese tourists\",\n",
    "    name=\"vietnamese_assistant\"\n",
    ")\n",
    "\n",
    "american_assistant = create_react_agent(\n",
    "    model=MODEL,\n",
    "    tools=[],\n",
    "    prompt=\"You are a chatbot for american tourists\",\n",
    "    name=\"american_assistant\"\n",
    ")\n",
    "\n",
    "supervisor = create_supervisor(\n",
    "    agents=[vietnamese_assistant, american_assistant],\n",
    "    model= init_chat_model(model=MODEL),\n",
    "    prompt=(\n",
    "        \"Your task is to choose the right assistant to help for vietnamese or american tourists.\"\n",
    "    )\n",
    ").compile()\n",
    "\n",
    "for chunk in supervisor.stream(\n",
    "    {\n",
    "        \"messages\": [\n",
    "            {\n",
    "                \"role\": \"user\",\n",
    "                \"content\": \"I want to go to New York\"\n",
    "            }\n",
    "        ]\n",
    "    }\n",
    "):\n",
    "    print(chunk)\n",
    "    print(\"\\n\")"
   ]
  },
  {
   "cell_type": "code",
   "execution_count": null,
   "id": "0b6d7a60",
   "metadata": {},
   "outputs": [],
   "source": []
  }
 ],
 "metadata": {
  "kernelspec": {
   "display_name": "backend-py3.12",
   "language": "python",
   "name": "python3"
  },
  "language_info": {
   "codemirror_mode": {
    "name": "ipython",
    "version": 3
   },
   "file_extension": ".py",
   "mimetype": "text/x-python",
   "name": "python",
   "nbconvert_exporter": "python",
   "pygments_lexer": "ipython3",
   "version": "3.12.10"
  }
 },
 "nbformat": 4,
 "nbformat_minor": 5
}
