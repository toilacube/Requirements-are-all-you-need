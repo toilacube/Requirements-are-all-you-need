{
 "cells": [
  {
   "cell_type": "code",
   "execution_count": 1,
   "id": "6cc2df2f",
   "metadata": {},
   "outputs": [
    {
     "name": "stdout",
     "output_type": "stream",
     "text": [
      "hello\n"
     ]
    }
   ],
   "source": [
    "print(\"hello\")"
   ]
  },
  {
   "cell_type": "code",
   "execution_count": 17,
   "id": "a2224385",
   "metadata": {},
   "outputs": [],
   "source": [
    "from langchain_core.messages import AnyMessage\n",
    "from typing_extensions import TypedDict\n",
    "\n",
    "from typing_extensions import Annotated\n",
    "\n",
    "from langgraph.graph.message import add_messages\n",
    "\n",
    "class State(TypedDict):\n",
    "    messages: Annotated[list[AnyMessage], add_messages]\n",
    "    extra_field: int"
   ]
  },
  {
   "cell_type": "code",
   "execution_count": 20,
   "id": "117e6c0e",
   "metadata": {},
   "outputs": [],
   "source": [
    "from langchain_core.messages import AIMessage\n",
    "\n",
    "def node(state: State):\n",
    "    new_message = AIMessage(\"Hello!\")\n",
    "    return {\"messages\": [new_message], \"extra_field\": 10}"
   ]
  },
  {
   "cell_type": "code",
   "execution_count": 22,
   "id": "58efc424",
   "metadata": {},
   "outputs": [],
   "source": [
    "from langgraph.graph import StateGraph\n",
    "\n",
    "from langgraph.graph import START\n",
    "from langchain_core.messages import HumanMessage\n",
    "\n",
    "graph = StateGraph(State).add_node(node).set_entry_point(\"node\").compile()"
   ]
  },
  {
   "cell_type": "code",
   "execution_count": 24,
   "id": "c342b67c",
   "metadata": {},
   "outputs": [
    {
     "name": "stdout",
     "output_type": "stream",
     "text": [
      "================================\u001b[1m Human Message \u001b[0m=================================\n",
      "\n",
      "Hi 123\n",
      "==================================\u001b[1m Ai Message \u001b[0m==================================\n",
      "\n",
      "Hello!\n"
     ]
    }
   ],
   "source": [
    "result = graph.invoke({\"messages\": [HumanMessage(\"Hi 123\")]})\n",
    "\n",
    "for message in result[\"messages\"]:\n",
    "    message.pretty_print()"
   ]
  },
  {
   "cell_type": "code",
   "execution_count": 33,
   "id": "4fc7c864",
   "metadata": {},
   "outputs": [
    {
     "name": "stdout",
     "output_type": "stream",
     "text": [
      "Entered node `node_1`:\n",
      "\tInput: a='set at start'.\n",
      "\tReturned: {'private_data': 'set by node_1'}\n",
      "Entered node `node_2`:\n",
      "\tInput: {'private_data': 'set by node_1'}.\n",
      "\tReturned: {'a': 'set by node_2'}\n",
      "Entered node `node_3`:\n",
      "\tInput: a='set by node_2'.\n",
      "\tReturned: {'a': 'set by node_3'}\n",
      "\n",
      "Output of graph invocation: {'a': 'set by node_3'}\n"
     ]
    }
   ],
   "source": [
    "from langgraph.graph import StateGraph, START, END\n",
    "from pydantic import BaseModel\n",
    "from typing_extensions import TypedDict\n",
    "\n",
    "# The overall state of the graph (this is the public state shared across nodes)\n",
    "class OverallState(BaseModel):\n",
    "    a: str\n",
    "\n",
    "# Output from node_1 contains private data that is not part of the overall state\n",
    "class Node1Output(TypedDict):\n",
    "    private_data: str\n",
    "\n",
    "# The private data is only shared between node_1 and node_2\n",
    "def node_1(state: OverallState) -> Node1Output:\n",
    "    output = {\"private_data\": \"set by node_1\"}\n",
    "    print(f\"Entered node `node_1`:\\n\\tInput: {state}.\\n\\tReturned: {output}\")\n",
    "    return output\n",
    "\n",
    "# Node 2 input only requests the private data available after node_1\n",
    "class Node2Input(Node1Output):\n",
    "    pass \n",
    "\n",
    "def node_2(state: Node2Input) -> OverallState:\n",
    "    output = {\"a\": \"set by node_2\"}\n",
    "    print(f\"Entered node `node_2`:\\n\\tInput: {state}.\\n\\tReturned: {output}\")\n",
    "    return output\n",
    "\n",
    "# Node 3 only has access to the overall state (no access to private data from node_1)\n",
    "def node_3(state: OverallState) -> OverallState:\n",
    "    output = {\"a\": \"set by node_3\"}\n",
    "    print(f\"Entered node `node_3`:\\n\\tInput: {state}.\\n\\tReturned: {output}\")\n",
    "    return output\n",
    "\n",
    "# Connect nodes in a sequence\n",
    "# node_2 accepts private data from node_1, whereas\n",
    "# node_3 does not see the private data.\n",
    "builder = StateGraph(OverallState).add_sequence([node_1, node_2, node_3])\n",
    "builder.add_edge(START, \"node_1\")\n",
    "graph = builder.compile()\n",
    "\n",
    "# Invoke the graph with the initial state\n",
    "response = graph.invoke(\n",
    "    {\n",
    "        \"a\": \"set at start\",\n",
    "    }\n",
    ")\n",
    "\n",
    "print()\n",
    "print(f\"Output of graph invocation: {response}\")"
   ]
  },
  {
   "cell_type": "code",
   "execution_count": null,
   "id": "05e2fbf1",
   "metadata": {},
   "outputs": [],
   "source": [
    "from langgraph.graph import END, StateGraph, START\n",
    "from langgraph.runtime import Runtime\n",
    "from typing_extensions import TypedDict\n",
    "\n",
    "# 1. Specify config schema\n",
    "class ContextSchema(TypedDict):\n",
    "    my_runtime_value: str\n",
    "\n",
    "# 2. Define a graph that accesses the config in a node\n",
    "class State(TypedDict):\n",
    "    my_state_value: str\n",
    "\n",
    "def node(state: State, runtime: Runtime[ContextSchema]):\n",
    "    if runtime.context[\"my_runtime_value\"] == \"a\":\n",
    "        return {\"my_state_value\": 1}\n",
    "    elif runtime.context[\"my_runtime_value\"] == \"b\":\n",
    "        return {\"my_state_value\": 2}\n",
    "    else:\n",
    "        raise ValueError(\"Unknown values.\")\n",
    "\n",
    "builder = StateGraph(State, context_schema=ContextSchema)\n",
    "builder.add_node(node)\n",
    "builder.add_edge(START, \"node\")\n",
    "builder.add_edge(\"node\", END)\n",
    "\n",
    "graph = builder.compile()\n",
    "\n",
    "# 3. Pass in configuration at runtime:\n",
    "print(graph.invoke({}, context={\"my_runtime_value\": \"a\"}))\n",
    "print(graph.invoke({}, context={\"my_runtime_value\": \"b\"}))"
   ]
  }
 ],
 "metadata": {
  "kernelspec": {
   "display_name": "backend-py3.12",
   "language": "python",
   "name": "python3"
  },
  "language_info": {
   "codemirror_mode": {
    "name": "ipython",
    "version": 3
   },
   "file_extension": ".py",
   "mimetype": "text/x-python",
   "name": "python",
   "nbconvert_exporter": "python",
   "pygments_lexer": "ipython3",
   "version": "3.12.10"
  }
 },
 "nbformat": 4,
 "nbformat_minor": 5
}
